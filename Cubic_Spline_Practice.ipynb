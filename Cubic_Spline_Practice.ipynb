{
 "cells": [
  {
   "cell_type": "code",
   "execution_count": 1,
   "metadata": {},
   "outputs": [
    {
     "name": "stdout",
     "output_type": "stream",
     "text": [
      "-10.528\n"
     ]
    },
    {
     "data": {
      "image/png": "[encoded data removed]",
      "text/plain": [
       "<matplotlib.figure.Figure at 0x237133ece80>"
      ]
     },
     "metadata": {},
     "output_type": "display_data"
    }
   ],
   "source": [
    "import numpy as np\n",
    "import matplotlib.pyplot as plt\n",
    "from scipy.interpolate import *\n",
    "from scipy.interpolate import PPoly, splrep\n",
    "from scipy.interpolate import CubicSpline\n",
    "x =[0,1,2,3,4]\n",
    "y =[-9,-12,0,21,55]\n",
    "cs=CubicSpline(x,y)\n",
    "xnew=np.arange(0,5,0.1)\n",
    "print(cs(1.2))\n",
    "\n",
    "plt.plot(x, y, 'x', xnew, cs(xnew))\n",
    "plt.legend(['Linear', 'Cubic Spline', 'True'])\n",
    "plt.axis([-1, 5, -15, 60])\n",
    "plt.title('Cubic-spline interpolation')\n",
    "plt.show()\n"
   ]
  },
  {
   "cell_type": "code",
   "execution_count": 3,
   "metadata": {},
   "outputs": [
    {
     "name": "stdout",
     "output_type": "stream",
     "text": [
      "(array([ 0.,  0.,  0.,  0.,  2.,  4.,  4.,  4.,  4.]), array([ -9.        , -17.88888889,  -4.33333333,  26.55555556,\n",
      "        55.        ,   0.        ,   0.        ,   0.        ,   0.        ]), 3)\n"
     ]
    }
   ],
   "source": [
    "y = [-9,-12,0,21,55]\n",
    "x =[0,1,2,3,4]\n",
    "xvals = np.arange(0,5,0.1)\n",
    "func = splrep(x, y, s=0)\n",
    "yvals = splev(1.2, func, der=0)\n",
    "print(func)\n",
    "pp=PPoly.from_spline(func)\n"
   ]
  },
  {
   "cell_type": "code",
   "execution_count": 4,
   "metadata": {
    "collapsed": true
   },
   "outputs": [],
   "source": [
    "def cubic_spline(x, y):\n",
    "    \"\"\"\n",
    "    Parameters\n",
    "    ----------\n",
    "    x  : list of floats\n",
    "    y  : list of floats\n",
    "    \n",
    "    Returns\n",
    "    -------  \n",
    "    list of list of floats\n",
    "    \"\"\"\n",
    "    n = len(x) - 1\n",
    "    h = [x[i+1]-x[i] for i in range(n)]\n",
    "    al = [3*((y[i+1]-y[i])/h[i] - (y[i]-y[i-1])/h[i-1]) for i in range(1,n)]\n",
    "    al.insert(0,0)\n",
    "    l = [1] * (n+1)\n",
    "    u = [0] * (n+1)\n",
    "    z = [0] * (n+1)\n",
    "    for i in range(1, n):\n",
    "        l[i] = 2*(x[i+1]-x[i-1]) - h[i-1]*u[i-1]\n",
    "        u[i] = h[i]/l[i]\n",
    "        z[i] = (al[i] - h[i-1]*z[i-1])/l[i]\n",
    "        \n",
    "    b = [0] * (n+1)\n",
    "    c = [0] * (n+1)\n",
    "    d = [0] * (n+1)\n",
    "    for i in range(n-1, -1, -1):    #for i in reversed(range(n)):\n",
    "        c[i] = z[i] - u[i]*c[i+1]\n",
    "        b[i] = (y[i+1]-y[i])/h[i] - h[i]*(c[i+1] + 2*c[i])/3\n",
    "        d[i] = (c[i+1]-c[i])/(3*h[i])\n",
    "    return [y, b, c, d]\n"
   ]
  },
  {
   "cell_type": "markdown",
   "metadata": {},
   "source": [
    "[[-9, -12, 0, 21, 55], \n",
    "[-6.6071428571428577, 4.2142857142857144, 16.75, 27.785714285714285, 0],\n",
    "[0.0, 10.821428571428571, 1.7142857142857144, 9.3214285714285712, 0], \n",
    "[3.6071428571428572, -3.035714285714286, 2.5357142857142856, -3.1071428571428572, 0]]\n",
    "[a[0][i] +  a[1][i]*(xs[i][k]-i) + a[2][i]*(xs[i][k]-i)**2 + a[3][i]*(xs[i][k]-i)**3   "
   ]
  },
  {
   "cell_type": "code",
   "execution_count": 68,
   "metadata": {
    "collapsed": true
   },
   "outputs": [],
   "source": [
    "def printfx(cbsp):\n",
    "    d=0.0\n",
    "    c=0.0\n",
    "    b=0.0\n",
    "    a=0.0\n",
    "    for i  in range(0,len(cbsp)):\n",
    "                    d=cbsp[0][i]\n",
    "                    c=cbsp[1][i]    \n",
    "                    b=cbsp[2][i]\n",
    "                    a=cbsp[3][i]\n",
    "                    print( '{: >+5.6f}( x - {: d})^3{: >+5.4f}( x - {: d} )^2{: >+5.4f}( x - {: d} ){: >+5.4f}'.format(a,i,b,i,c,i,d) )"
   ]
  },
  {
   "cell_type": "code",
   "execution_count": 72,
   "metadata": {},
   "outputs": [
    {
     "name": "stdout",
     "output_type": "stream",
     "text": [
      "+3.607143( x -  0)^3+0.0000( x -  0 )^2-6.6071( x -  0 )-9.0000\n",
      "-3.035714( x -  1)^3+10.8214( x -  1 )^2+4.2143( x -  1 )-12.0000\n",
      "+2.535714( x -  2)^3+1.7143( x -  2 )^2+16.7500( x -  2 )+0.0000\n",
      "-3.107143( x -  3)^3+9.3214( x -  3 )^2+27.7857( x -  3 )+21.0000\n",
      "4\n"
     ]
    },
    {
     "data": {
      "image/png": "[encoded data removed]",
      "text/plain": [
       "<matplotlib.figure.Figure at 0x237153fcdd8>"
      ]
     },
     "metadata": {},
     "output_type": "display_data"
    }
   ],
   "source": [
    "###### import math  \n",
    "import matplotlib.pyplot as plt\n",
    "import numpy as np\n",
    "\n",
    "  # the function to be interpolated\n",
    "def f(x):\n",
    "    return math.e ** x\n",
    "    \n",
    "# input\n",
    "interval = 3\n",
    "#x = [i for i in range(interval + 1)]\n",
    "#y = [f(i) for i in range(interval + 1)]\n",
    "x=np.arange(5)\n",
    "\n",
    "y=[-9,-12,0,21,55]\n",
    "# process\n",
    "a = cubic_spline(x, y)\n",
    "printfx(a)\n",
    "print(len(a))\n",
    "# prepare data for plotting the splines\n",
    "points_per_interval = 5\n",
    "xs = []\n",
    "ys = []\n",
    "for i in range(len(x)):\n",
    "    xs.append(np.linspace(i, i+1, points_per_interval))\n",
    "    ys.append([a[0][i] + \n",
    "               a[1][i]*(xs[i][k]-i) + \n",
    "               a[2][i]*(xs[i][k]-i)**2 + \n",
    "               a[3][i]*(xs[i][k]-i)**3   \n",
    "               for k in range(points_per_interval)])\n",
    "    \n",
    "# prepare data for plotting the given function\n",
    "#x = np.linspace(0, 5, interval * points_per_interval - (interval - 1))\n",
    "#y = [f(x[i]) for i in range(len(x))]\n",
    "x=np.arange(5)\n",
    "y=[-9,-12,0,21,55]\n",
    "\n",
    "plt.plot(x, y, 'k.-', xs[0], ys[0], 'r.--', xs[1], ys[1], 'g.--', xs[2], ys[2], 'b.--',xs[3],ys[3],'--',xs[4],ys[4],'--')\n",
    "#plt.plot(x,y,'k-',xs,ys,'r--')\n",
    "plt.title('Cubic Spline')\n",
    "\n",
    "plt.xlabel('x')\n",
    "plt.ylabel('y')\n",
    "plt.show()\n",
    "\n",
    "# cubic spline interpolation\n",
    "# author : worasait suwannik\n",
    "# date   : apr 2015\n",
    "\n"
   ]
  },
  {
   "cell_type": "code",
   "execution_count": null,
   "metadata": {
    "collapsed": true
   },
   "outputs": [],
   "source": []
  },
  {
   "cell_type": "code",
   "execution_count": null,
   "metadata": {
    "collapsed": true
   },
   "outputs": [],
   "source": []
  }
 ],
 "metadata": {
  "kernelspec": {
   "display_name": "Python 3",
   "language": "python",
   "name": "python3"
  },
  "language_info": {
   "codemirror_mode": {
    "name": "ipython",
    "version": 3
   },
   "file_extension": ".py",
   "mimetype": "text/x-python",
   "name": "python",
   "nbconvert_exporter": "python",
   "pygments_lexer": "ipython3",
   "version": "3.6.2"
  }
 },
 "nbformat": 4,
 "nbformat_minor": 2
}
