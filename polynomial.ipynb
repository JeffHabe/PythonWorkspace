{
 "cells": [
  {
   "cell_type": "markdown",
   "metadata": {},
   "source": [
    " lib import 為 * ,在使用時可不使用物件\n",
    "%matplotlib inline 是把可以將matplotlib的圖表直接嵌入到Notebook之中"
   ]
  },
  {
   "cell_type": "code",
   "execution_count": 3,
   "metadata": {
    "collapsed": true
   },
   "outputs": [],
   "source": [
    "from numpy import *\n",
    "from scipy.signal import savgol_filter\n",
    "from scipy.interpolate import * \n",
    "from matplotlib.pyplot import *\n",
    "from scipy.interpolate import CubicSpline\n",
    "from scipy import interpolate\n",
    "%matplotlib inline"
   ]
  },
  {
   "cell_type": "code",
   "execution_count": 4,
   "metadata": {
    "collapsed": true
   },
   "outputs": [],
   "source": [
    "import csv \n",
    "data={}\n",
    "f = open('0201T3.csv', 'r')\n",
    "for row in csv.DictReader(f):\n",
    "    data[row['時間']]=row['值']\n",
    "f.close()"
   ]
  },
  {
   "cell_type": "code",
   "execution_count": 5,
   "metadata": {
    "collapsed": true
   },
   "outputs": [],
   "source": [
    "def rsq(x,y,pfit):\n",
    "    if (len(y)==len(pfit)):\n",
    "          Sresid =(y - pfit)\n",
    "    else:\n",
    "        Sresid =(y - polyval(pfit,x))\n",
    "    SSresid= sum(pow(Sresid,2))\n",
    "    SStotal=len(y)*var(y)\n",
    "    rsq=1-SSresid/SStotal\n",
    "    return rsq\n",
    "\n",
    "def squared_error(ys_orig,ys_line):\n",
    "    return sum((ys_line-ys_orig)**2)\n",
    "\n",
    "def coeff_of_determination(ys_orig, ys_line):\n",
    "    y_mean_line = [mean(ys_orig) for y in ys_orig]\n",
    "    squared_error_regr = squared_error(ys_orig,ys_line)\n",
    "    squared_error_y_mean = squared_error(ys_orig,y_mean_line)   \n",
    "    return 1 - ( squared_error_regr / squared_error_y_mean)\n",
    "\n",
    "def least_square(fuc,ys_orig,m,n,x):\n",
    "    ys_line=polyval(fuc,x)\n",
    "    err=squared_error(ys_orig,ys_line)\n",
    "    lsq=err/(m-n-1)\n",
    "    return lsq"
   ]
  },
  {
   "cell_type": "code",
   "execution_count": 6,
   "metadata": {
    "collapsed": true
   },
   "outputs": [],
   "source": [
    "def cubic_spline(x, y):\n",
    "    \"\"\"\n",
    "    Parameters\n",
    "    ----------\n",
    "    x  : list of floats\n",
    "    y  : list of floats\n",
    "    \n",
    "    Returns\n",
    "    -------  \n",
    "    list of list of floats\n",
    "    \"\"\"\n",
    "    n = len(x) - 1\n",
    "    h = [x[i+1]-x[i] for i in range(n)]\n",
    "    al = [3*((y[i+1]-y[i])/h[i] - (y[i]-y[i-1])/h[i-1]) for i in range(1,n)]\n",
    "    al.insert(0,0)\n",
    "    l = [1] * (n+1)\n",
    "    u = [0] * (n+1)\n",
    "    z = [0] * (n+1)\n",
    "    for i in range(1, n):\n",
    "        l[i] = 2*(x[i+1]-x[i-1]) - h[i-1]*u[i-1]\n",
    "        u[i] = h[i]/l[i]\n",
    "        z[i] = (al[i] - h[i-1]*z[i-1])/l[i]\n",
    "        \n",
    "    b = [0] * (n+1)\n",
    "    c = [0] * (n+1)\n",
    "    d = [0] * (n+1)\n",
    "    for i in range(n-1, -1, -1):    #for i in reversed(range(n)):\n",
    "        c[i] = z[i] - u[i]*c[i+1]\n",
    "        b[i] = (y[i+1]-y[i])/h[i] - h[i]*(c[i+1] + 2*c[i])/3\n",
    "        d[i] = (c[i+1]-c[i])/(3*h[i])\n",
    "    return [y, b, c, d]\n"
   ]
  },
  {
   "cell_type": "code",
   "execution_count": 7,
   "metadata": {
    "collapsed": true
   },
   "outputs": [],
   "source": [
    "def printfx(cbsp):\n",
    "    d=0.0\n",
    "    c=0.0\n",
    "    b=0.0\n",
    "    a=0.0\n",
    "\n",
    "    for i  in range(len(cbsp[0])):\n",
    "                    d=cbsp[0][i]\n",
    "                    c=cbsp[1][i]    \n",
    "                    b=cbsp[2][i]\n",
    "                    a=cbsp[3][i]\n",
    "                    print( '{:>4d} ~ {:>4d}   {: >+5.6f}( x - {: d})^3{: >+5.4f}( x - {: d} )^2{: >+5.4f}( x - {: d} ){: >+5.4f}'.format(i,i+1,a,i,b,i,c,i,d) )"
   ]
  },
  {
   "cell_type": "code",
   "execution_count": 8,
   "metadata": {
    "collapsed": true
   },
   "outputs": [],
   "source": [
    "def cbspVal(x,cbF):\n",
    "    # prepare data for plotting the splines\n",
    "    xs=[]\n",
    "    xs=arange(len(x))\n",
    "    ys = []\n",
    "    for i in range(len(x)):\n",
    "        ys.append(cbF[0][i] + cbF[1][i]*(xs[i]-i) + cbF[2][i]*(xs[i]-i)**2 + cbF[3][i]*(xs[i]-i)**3)\n",
    "    return xs,ys\n"
   ]
  },
  {
   "cell_type": "code",
   "execution_count": 9,
   "metadata": {},
   "outputs": [
    {
     "name": "stdout",
     "output_type": "stream",
     "text": [
      "4\n",
      "\n",
      "[[-9, -12, 0, 21, 55], [-6.607142857142858, 4.214285714285714, 16.75, 27.785714285714285, 0], [0.0, 10.821428571428571, 1.7142857142857144, 9.321428571428571, 0], [3.607142857142857, -3.035714285714286, 2.5357142857142856, -3.107142857142857, 0]]\n",
      "\n",
      "   0 ~    1   +3.607143( x -  0)^3+0.0000( x -  0 )^2-6.6071( x -  0 )-9.0000\n",
      "   1 ~    2   -3.035714( x -  1)^3+10.8214( x -  1 )^2+4.2143( x -  1 )-12.0000\n",
      "   2 ~    3   +2.535714( x -  2)^3+1.7143( x -  2 )^2+16.7500( x -  2 )+0.0000\n",
      "   3 ~    4   -3.107143( x -  3)^3+9.3214( x -  3 )^2+27.7857( x -  3 )+21.0000\n",
      "   4 ~    5   +0.000000( x -  4)^3+0.0000( x -  4 )^2+0.0000( x -  4 )+55.0000\n",
      "[-9.0, -12.0, 0.0, 21.0, 55]\n"
     ]
    }
   ],
   "source": [
    "###### import math  \n",
    "import matplotlib.pyplot as plt\n",
    "import numpy as np\n",
    "\n",
    "  # the function to be interpolated\n",
    "def f(x):\n",
    "    return math.e ** x\n",
    "    \n",
    "# input\n",
    "interval = 3\n",
    "#x = [i for i in range(interval + 1)]\n",
    "#y = [f(i) for i in range(interval + 1)]\n",
    "x=np.arange(5)\n",
    "\n",
    "y=[-9,-12,0,21,55]\n",
    "# process\n",
    "a = cubic_spline(x, y)\n",
    "print(len(a))\n",
    "print()\n",
    "print(a)\n",
    "print()\n",
    "printfx(a)\n",
    "# prepare data for plotting the splines\n",
    "xs,ys=cbspVal(x,a)\n",
    "print(ys)\n",
    "# prepare data for plotting the given function\n",
    "#x = np.linspace(0, 5, interval * points_per_interval - (interval - 1))\n",
    "#y = [f(x[i]) for i in range(len(x))]\n",
    "#x=np.arange(5)\n",
    "#y=[-9,-12,0,21,55]\n",
    "\n",
    "#plt.plot(x, y, 'k.-', xs[0], ys[0], 'r.--', xs[1], ys[1], 'g.--', xs[2], ys[2], 'b.--',xs[3],ys[3],'--',xs[4],ys[4],'--')\n",
    "#plt.plot(x,y,'k-',xs,ys,'r--')\n",
    "#plt.title('Cubic Spline')\n",
    "\n",
    "#plt.xlabel('x')\n",
    "#plt.ylabel('y')\n",
    "#plt.show()\n",
    "\n",
    "# cubic spline interpolation\n",
    "# author : worasait suwannik\n",
    "# date   : apr 2015\n",
    "\n"
   ]
  },
  {
   "cell_type": "markdown",
   "metadata": {},
   "source": [
    "savgol_filter 是透過Savitzky-Golay平滑去噪 "
   ]
  },
  {
   "cell_type": "code",
   "execution_count": 10,
   "metadata": {},
   "outputs": [
    {
     "name": "stdout",
     "output_type": "stream",
     "text": [
      "1285\n",
      "0.9939386143393719\n"
     ]
    },
    {
     "data": {
      "text/plain": [
       "'av=array(v)\\nam=mean(av)\\nprint(am)\\na=[mean(av) for y in av]\\nprint(a)\\nprint(rsq(t,v,sgf))\\nprint(coeff_of_determination(array(v),sgf))\\n'"
      ]
     },
     "execution_count": 10,
     "metadata": {},
     "output_type": "execute_result"
    },
    {
     "data": {
      "image/png": "[encoded data removed]",
      "text/plain": [
       "<matplotlib.figure.Figure at 0x201f3fcb748>"
      ]
     },
     "metadata": {},
     "output_type": "display_data"
    }
   ],
   "source": [
    "i=0\n",
    "t=[]\n",
    "v=[]\n",
    "for value in data.values():\n",
    "    t.append(i)\n",
    "    v.append(float(value))\n",
    "    i+=1\n",
    "cs=cubic_spline(t,v)\n",
    "print(len(cs[0]))\n",
    "tck,u=interpolate.splprep([t,v],s=0.0)\n",
    "x_i,y_i= interpolate.splev(u,tck)\n",
    "\n",
    "sgf=savgol_filter(array(v),11,2)\n",
    "#csx_i,csy_i=cbspVal(t,cs)\n",
    "#printfx(cs)\n",
    "#plot(t,v,'o')\n",
    "#plot(t,sgf,'-')\n",
    "#plot(t,cs(t))\n",
    "\n",
    "#plot(t,csy_i)\n",
    "plot(t, v, 'bo',t,sgf, 'r--')\n",
    "legend(['data',  'cubicS'], loc='best')\n",
    "print(coeff_of_determination(array(v),sgf))\n",
    "#print(coeff_of_determination(array(v),y_i))\n",
    "#print(coeff_of_determination(array(v),csy_i))\n",
    "'''av=array(v)\n",
    "am=mean(av)\n",
    "print(am)\n",
    "a=[mean(av) for y in av]\n",
    "print(a)\n",
    "print(rsq(t,v,sgf))\n",
    "print(coeff_of_determination(array(v),sgf))\n",
    "'''"
   ]
  },
  {
   "cell_type": "code",
   "execution_count": 14,
   "metadata": {},
   "outputs": [
    {
     "data": {
      "text/html": [
       "<script>requirejs.config({paths: { 'plotly': ['https://cdn.plot.ly/plotly-latest.min']},});if(!window.Plotly) {{require(['plotly'],function(plotly) {window.Plotly=plotly;});}}</script>"
      ],
      "text/vnd.plotly.v1+html": [
       "<script>requirejs.config({paths: { 'plotly': ['https://cdn.plot.ly/plotly-latest.min']},});if(!window.Plotly) {{require(['plotly'],function(plotly) {window.Plotly=plotly;});}}</script>"
      ]
     },
     "metadata": {},
     "output_type": "display_data"
    },
    {
     "data": {
      "application/vnd.plotly.v1+json": {
       "data": [
        {
         "x": [
          1,
          2,
          3
         ],
         "y": [
          3,
          1,
          6
         ]
        }
       ],
       "layout": {}
      },
      "text/html": [
       "<div id=\"0896a6c7-1de6-4c7d-b087-4b8c0a91355c\" style=\"height: 525px; width: 100%;\" class=\"plotly-graph-div\"></div><script type=\"text/javascript\">require([\"plotly\"], function(Plotly) { window.PLOTLYENV=window.PLOTLYENV || {};window.PLOTLYENV.BASE_URL=\"https://plot.ly\";Plotly.newPlot(\"0896a6c7-1de6-4c7d-b087-4b8c0a91355c\", [{\"x\": [1, 2, 3], \"y\": [3, 1, 6]}], {}, {\"showLink\": true, \"linkText\": \"Export to plot.ly\"})});</script>"
      ],
      "text/vnd.plotly.v1+html": [
       "<div id=\"0896a6c7-1de6-4c7d-b087-4b8c0a91355c\" style=\"height: 525px; width: 100%;\" class=\"plotly-graph-div\"></div><script type=\"text/javascript\">require([\"plotly\"], function(Plotly) { window.PLOTLYENV=window.PLOTLYENV || {};window.PLOTLYENV.BASE_URL=\"https://plot.ly\";Plotly.newPlot(\"0896a6c7-1de6-4c7d-b087-4b8c0a91355c\", [{\"x\": [1, 2, 3], \"y\": [3, 1, 6]}], {}, {\"showLink\": true, \"linkText\": \"Export to plot.ly\"})});</script>"
      ]
     },
     "metadata": {},
     "output_type": "display_data"
    }
   ],
   "source": [
    "import pandas as pd \n",
    "import cufflinks as cf\n",
    "import plotly.graph_objs as go\n",
    "from plotly.offline import download_plotlyjs, init_notebook_mode,plot,iplot\n",
    "\n",
    "init_notebook_mode(connected = True)\n",
    "iplot([{\"x\": t, \"y\":v}])\n"
   ]
  },
  {
   "cell_type": "markdown",
   "metadata": {},
   "source": [
    "下面程式為把全部Data value 中特定區域取出來"
   ]
  },
  {
   "cell_type": "code",
   "execution_count": null,
   "metadata": {
    "collapsed": true
   },
   "outputs": [],
   "source": [
    "def mkfile():\n",
    "    with open('pt.csv','wt',newline='') as csvFile:\n",
    "        csvHeader=[\"start\",\"end\",\"polyStartValue\",\"orgStartValue\",\"polyEndValue\",\"orgEndValue\",\"Rsq\",\"f(x)\"]\n",
    "        writer=csv.DictWriter(csvFile,csvHeader)\n",
    "        writer.writeheader()\n"
   ]
  },
  {
   "cell_type": "code",
   "execution_count": null,
   "metadata": {
    "collapsed": true,
    "scrolled": true
   },
   "outputs": [],
   "source": [
    "def lab1():\n",
    "    mkfile()\n",
    "    i=0\n",
    "    count=1\n",
    "    stop=False\n",
    "    startPt=0\n",
    "    endPt=0\n",
    "    delta=0\n",
    "    itl=[]\n",
    "    fx=[]\n",
    "    '''\n",
    "    plot(t,v,'-')\n",
    "    plot(t,sgf,'-')\n",
    "    '''\n",
    "    print(len(t))\n",
    "    while(startPt<=(len(t)-1)):\n",
    "        x=[]\n",
    "        y=[]\n",
    "        vt=[]\n",
    "        for i in range(startPt,len(t)):\n",
    "                if(abs(sgf[startPt]-sgf[i])<=0.2)  and i<(len(t)-1):\n",
    "                    x.append(t[i])\n",
    "                    y.append(float(sgf[i]))\n",
    "                    vt.append(float(v[i]))\n",
    "                else:\n",
    "                    delta=i-startPt\n",
    "                    endPt=i\n",
    "                    x.append(t[i])\n",
    "                    y.append(float(sgf[i]))\n",
    "                    vt.append(float(v[i]))\n",
    "                    break\n",
    "        tp =polyfit(x,vt,2)\n",
    "        #cs=CubicSpline(x,y)\n",
    "        itl.append(count)\n",
    "        itl.append(startPt)\n",
    "        itl.append(endPt)\n",
    "        fx.append(tp[0])\n",
    "        fx.append(tp[1])\n",
    "        fx.append(tp[2])\n",
    "        f=poly1d(tp)\n",
    "        ys_line=polyval(tp,x)\n",
    "        rsqSGF=coeff_of_determination(array(y),ys_line)\n",
    "        rsqTT=coeff_of_determination(array(vt),ys_line)\n",
    "        print(count,'.',\" start : \",'{:>4d}'.format(startPt),\"  end : \",endPt,\" polyStartValue : \",'%.2f' % round(ys_line[0], 2),\\\n",
    "              \" orgStartValue : \",v[endPt], \" sgfStartValue : \",'%.2f' % round(sgf[startPt], 2)) \n",
    "        print( '%44s' %(\" \"),\"polyEndValue :\",'%.2f' % round(ys_line[delta],2),\"orgEndValue : \",v[startPt],\\\n",
    "              \"sgfEndValue : \",'%.2f' % round(sgf[startPt], 2))\n",
    "        print('%44s' %(\" \"),\"Rsq(Orig) : \",'%.3f ' % round(rsqTT,3),\"Rsq(SGF) : \",'%.3f ' % round(rsqSGF,3))\n",
    "        count+=1                \n",
    "        print() \n",
    "        plot(x,ys_line,'r-')\n",
    "        plot(t, v, 'bo', t,cs(t), 'r--',x,ys_line,'g-')\n",
    "        legend(['Raw_data',  'Cubic_Spline','Savitzky-Golay'], loc='best')\n",
    "        with open('pt.csv','a')as csvfile:\n",
    "            csvHeader=[\"start\",\"end\",\"polyStartValue\",\"orgStartValue\",\"polyEndValue\",\"orgEndValue\",\"Rsq\",\"f(x)\"]\n",
    "            writer=csv.DictWriter(csvfile,csvHeader)\n",
    "            writer.writerow({\"start\":startPt ,\"end\":endPt,\"polyStartValue\":ys_line[0],\\\n",
    "                             \"orgStartValue\":v[endPt],\"polyEndValue\":ys_line[delta],\"orgEndValue\":v[startPt],\"Rsq\":rsqTT,\"f(x)\":tp})\n",
    "        startPt= endPt+1\n",
    "\n",
    "         \n",
    "\n"
   ]
  },
  {
   "cell_type": "code",
   "execution_count": null,
   "metadata": {
    "collapsed": true
   },
   "outputs": [],
   "source": [
    "itl=[]\n",
    "fx=[]\n",
    "def lab2():\n",
    "    mkfile()\n",
    "    count=1\n",
    "    stop=False\n",
    "    startPt=0\n",
    "    endPt=0\n",
    "    delta=0\n",
    "    d=0\n",
    "    rsqSGF=0.0\n",
    "    rsqTT=0.0\n",
    "    '''\n",
    "    plot(t,v,'-')\n",
    "    plot(t,sgf,'-')\n",
    "    '''\n",
    "    plot(t,v,'-')\n",
    "    plot(t,sgf,'-')\n",
    "    print(len(t))\n",
    "    d=int(len(t)/4)\n",
    "    c=0\n",
    "    while(startPt<(len(t)-1)):\n",
    "        x=[]\n",
    "        y=[]\n",
    "        vt=[]\n",
    "    \n",
    "        for i in range(startPt,d):\n",
    "            if(i<(d-1)) and (i<(len(t)-1)) and (abs(sgf[startPt]-sgf[i])<=2) :\n",
    "                x.append(t[i])\n",
    "                y.append(float(sgf[i]))\n",
    "                vt.append(float(v[i]))\n",
    "            else:\n",
    "                delta=i-startPt\n",
    "                endPt=i\n",
    "                x.append(t[i])\n",
    "                y.append(float(sgf[i]))\n",
    "                vt.append(float(v[i]))\n",
    "                break\n",
    "        tp =polyfit(x,y,2)\n",
    "        f=poly1d(tp)\n",
    "        ys_line=polyval(tp,x)\n",
    "        rsqSGF=coeff_of_determination(array(y),ys_line)\n",
    "        rsqTT=coeff_of_determination(array(vt),ys_line)\n",
    "        if(rsqSGF>=0.89) or ((d-10)<=startPt) :         \n",
    "            print(f)\n",
    "            print(count,'.',\" start : \",'{:>4d}'.format(startPt),\"  end : \",endPt,\" polyStartValue : \",'%.2f' % round(ys_line[0], 2),\\\n",
    "                  \" orgStartValue : \",v[endPt], \" sgfStartValue : \",'%.2f' % round(sgf[startPt], 2)) \n",
    "            print( '%44s' %(\" \"),\"polyEndValue :\",'%.2f' % round(ys_line[delta],2),\"orgEndValue : \",v[startPt],\\\n",
    "                  \"sgfEndValue : \",'%.2f' % round(sgf[startPt], 2))\n",
    "            print('%44s' %(\" \"),\"Rsq(Orig) : \",'%.3f ' % round(rsqTT,3),\"Rsq(SGF) : \",'%.3f ' % round(rsqSGF,3))           \n",
    "            print()\n",
    "            plot(x,ys_line,'r-')\n",
    "            with open('pt.csv','a')as csvfile:\n",
    "                csvHeader=[\"start\",\"end\",\"polyStartValue\",\"orgStartValue\",\"polyEndValue\",\"orgEndValue\",\"Rsq\",\"f(x)\"]\n",
    "                writer=csv.DictWriter(csvfile,csvHeader)\n",
    "                writer.writerow({\"start\":startPt ,\"end\":endPt,\"polyStartValue\":ys_line[0],\\\n",
    "                                 \"orgStartValue\":v[endPt],\"polyEndValue\":ys_line[delta],\"orgEndValue\":v[startPt],\"Rsq\":rsqTT,\"f(x)\":tp})  \n",
    "            itl.append(count)\n",
    "            itl.append(startPt)\n",
    "            itl.append(endPt)\n",
    "            fx.append(tp[0])\n",
    "            fx.append(tp[1])\n",
    "            fx.append(tp[2])\n",
    "            count+=1     \n",
    "            d=endPt+int((len(t)-delta)/2)\n",
    "            startPt= endPt+1\n",
    "            print(\"round :\",c)\n",
    "           \n",
    "        else:\n",
    "             d-=10\n",
    "        c+=1\n"
   ]
  },
  {
   "cell_type": "code",
   "execution_count": null,
   "metadata": {
    "scrolled": false
   },
   "outputs": [],
   "source": [
    "lab2()"
   ]
  },
  {
   "cell_type": "code",
   "execution_count": null,
   "metadata": {
    "scrolled": true
   },
   "outputs": [],
   "source": [
    "n=0\n",
    "count=28\n",
    "\n",
    "while(n<5) and ((count-2)*3<=len(itl)):\n",
    "    x=[]\n",
    "    y=[]\n",
    "    vt=[]\n",
    "    tp=array([0.0,0.0,0.0])\n",
    "    itl_count=(count-2)*3\n",
    "\n",
    "    for i in range(itl[itl_count-2] ,itl[itl_count-1]+1  ):\n",
    "        x.append(t[i])\n",
    "        y.append(float(sgf[i]))\n",
    "        vt.append(float(v[i]))\n",
    "\n",
    "   # x.append(itl[itl_count-1]+1) \n",
    "   # y.append(float(sgf[itl[itl_count-1]+1]))\n",
    "   # vt.append(float(v[itl[itl_count-1]+1]))\n",
    "    plot(x,vt,'bo')\n",
    "    plot(x,y,'r-')   \n",
    "    tp1=polyfit(x,y,2)\n",
    "    tp[0],tp[1] ,tp[2]=fx[itl_count-3],fx[itl_count-2],fx[itl_count-1]\n",
    "    f=poly1d(tp)\n",
    "    f1=poly1d(tp)\n",
    "    ytp=polyval(tp,x)\n",
    "    rsqSGF=coeff_of_determination(array(y),ytp)\n",
    "    print(ytp)\n",
    "    print('{:>3d}.  {:>5d} - {:>5d}:  Rsq(SGF):{:5.3f}  ls={:5.3f}'.format(count-2,itl[itl_count-2],itl[itl_count-1],rsqSGF,least_square(tp,y,len(x),2,x)))  \n",
    "    print(f)\n",
    "    print()\n",
    "    plot(x,ytp,'k-')\n",
    "    count+=1\n",
    "    n+=1\n",
    "  \n",
    "\n",
    "\n"
   ]
  },
  {
   "cell_type": "code",
   "execution_count": null,
   "metadata": {
    "collapsed": true
   },
   "outputs": [],
   "source": []
  },
  {
   "cell_type": "code",
   "execution_count": null,
   "metadata": {
    "collapsed": true
   },
   "outputs": [],
   "source": []
  }
 ],
 "metadata": {
  "kernelspec": {
   "display_name": "Python 3",
   "language": "python",
   "name": "python3"
  },
  "language_info": {
   "codemirror_mode": {
    "name": "ipython",
    "version": 3
   },
   "file_extension": ".py",
   "mimetype": "text/x-python",
   "name": "python",
   "nbconvert_exporter": "python",
   "pygments_lexer": "ipython3",
   "version": "3.6.2"
  }
 },
 "nbformat": 4,
 "nbformat_minor": 2
}
