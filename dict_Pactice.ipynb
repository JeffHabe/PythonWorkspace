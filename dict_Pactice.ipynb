{
 "cells": [
  {
   "cell_type": "code",
   "execution_count": 1,
   "metadata": {},
   "outputs": [
    {
     "ename": "ModuleNotFoundError",
     "evalue": "No module named 'jieba'",
     "output_type": "error",
     "traceback": [
      "\u001b[1;31m---------------------------------------------------------------------------\u001b[0m",
      "\u001b[1;31mModuleNotFoundError\u001b[0m                       Traceback (most recent call last)",
      "\u001b[1;32m<ipython-input-1-8a8f99a156ef>\u001b[0m in \u001b[0;36m<module>\u001b[1;34m()\u001b[0m\n\u001b[0;32m      4\u001b[0m     \u001b[1;34m'3'\u001b[0m\u001b[1;33m:\u001b[0m\u001b[1;34m\"呂布張飛關羽\"\u001b[0m\u001b[1;33m\u001b[0m\u001b[0m\n\u001b[0;32m      5\u001b[0m }\n\u001b[1;32m----> 6\u001b[1;33m \u001b[1;32mimport\u001b[0m \u001b[0mjieba\u001b[0m\u001b[1;33m,\u001b[0m\u001b[0mos\u001b[0m\u001b[1;33m\u001b[0m\u001b[0m\n\u001b[0m\u001b[0;32m      7\u001b[0m \u001b[1;33m\u001b[0m\u001b[0m\n\u001b[0;32m      8\u001b[0m \u001b[1;32mdef\u001b[0m \u001b[0minvert_index\u001b[0m\u001b[1;33m(\u001b[0m\u001b[0mdata\u001b[0m\u001b[1;33m)\u001b[0m\u001b[1;33m:\u001b[0m\u001b[1;33m\u001b[0m\u001b[0m\n",
      "\u001b[1;31mModuleNotFoundError\u001b[0m: No module named 'jieba'"
     ]
    }
   ],
   "source": [
    "test_data={\n",
    "    '1':\"關羽劉備張飛關羽\",\n",
    "    '2':\"曹操關羽呂布\",\n",
    "    '3':\"呂布張飛關羽\"\n",
    "}\n",
    "import jieba,os\n",
    "\n",
    "def invert_index(data):\n",
    "    invert = {}\n",
    "    jieba.load_userdict('dict.txt.big.txt')#加入字典\n",
    "    for i in data:\n",
    "        if i == '10000': break####For test#######\n",
    "        tokens = jieba.lcut(data[i])#Jieba斷詞\n",
    "        #print(tokens)\n",
    "        for j in tokens:\n",
    "            invert.setdefault(j,[]).append(i)#反向目錄\n",
    "    #print(invert)#有重複出現的value\n",
    "    for i in invert.keys():\n",
    "        if i == '10000': break####For test#####\n",
    "        invert[i] = sorted(set(invert[i]))#將重複出現在inverted index的value刪除\n",
    "        #print(invert[i])\n",
    "    #print(invert)#刪除重複的value\n",
    "    return invert"
   ]
  },
  {
   "cell_type": "code",
   "execution_count": null,
   "metadata": {
    "collapsed": true
   },
   "outputs": [],
   "source": []
  }
 ],
 "metadata": {
  "kernelspec": {
   "display_name": "Python 3",
   "language": "python",
   "name": "python3"
  },
  "language_info": {
   "codemirror_mode": {
    "name": "ipython",
    "version": 3
   },
   "file_extension": ".py",
   "mimetype": "text/x-python",
   "name": "python",
   "nbconvert_exporter": "python",
   "pygments_lexer": "ipython3",
   "version": "3.6.2"
  }
 },
 "nbformat": 4,
 "nbformat_minor": 2
}
