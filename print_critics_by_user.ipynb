{
 "cells": [
  {
   "cell_type": "code",
   "execution_count": 1,
   "metadata": {
    "collapsed": true
   },
   "outputs": [],
   "source": [
    "class Data:\n",
    "\n",
    "    def __init__(self):\n",
    "        self.ratings = []\n",
    "        with open(r'ratings.dat', 'r') as f:\n",
    "            for l in f:\n",
    "                item = Item()\n",
    "                ss = l.split('::')\n",
    "                ss = [s.strip() for s in ss]\n",
    "                item.user_id, item.movie_id, item.rating, item.timestamp = ss\n",
    "                self.ratings.append(item)\n",
    "\n",
    "        self.users = []\n",
    "        with open(r'users.dat', 'r') as f:\n",
    "            for l in f:\n",
    "                item = Item()\n",
    "                ss = l.split('::')\n",
    "                ss = [s.strip() for s in ss]\n",
    "                item.user_id, item.gender, item.age, item.occupation, item.zip_code = ss\n",
    "                self.users.append(item)\n",
    "\n",
    "        self.movies = []\n",
    "        with open(r'movies.dat', 'r', encoding='ISO-8859-1') as f:\n",
    "            for l in f:\n",
    "                item = Item()\n",
    "                ss = l.split('::')\n",
    "                ss = [s.strip() for s in ss]\n",
    "                item.movie_id, item.title, item.genres = ss \n",
    "                item.movie_id = item.movie_id.strip()\n",
    "                self.movies.append(item)\n"
   ]
  },
  {
   "cell_type": "code",
   "execution_count": null,
   "metadata": {
    "collapsed": true
   },
   "outputs": [],
   "source": [
    "def print_critics_by_user(critics, user):\n",
    "    ratings = critics[user].values()\n",
    "    count = len(ratings)\n",
    "    average_rating = sum(ratings) / count\n",
    "    print('{0} has viewed {1} movies with average rating {2}'.format(user, count, average_rating))\n",
    "    for movie_title, rating in sorted(critics[user].items()):\n",
    "        print('    {0} : {1}'.format(movie_title, rating))\n",
    "    print()"
   ]
  }
 ],
 "metadata": {
  "kernelspec": {
   "display_name": "Python 3",
   "language": "python",
   "name": "python3"
  },
  "language_info": {
   "codemirror_mode": {
    "name": "ipython",
    "version": 3
   },
   "file_extension": ".py",
   "mimetype": "text/x-python",
   "name": "python",
   "nbconvert_exporter": "python",
   "pygments_lexer": "ipython3",
   "version": "3.6.2"
  }
 },
 "nbformat": 4,
 "nbformat_minor": 2
}
